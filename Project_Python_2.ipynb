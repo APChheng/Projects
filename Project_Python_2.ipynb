{
  "nbformat": 4,
  "nbformat_minor": 0,
  "metadata": {
    "colab": {
      "provenance": []
    },
    "kernelspec": {
      "name": "python3",
      "display_name": "Python 3"
    },
    "language_info": {
      "name": "python"
    }
  },
  "cells": [
    {
      "cell_type": "markdown",
      "source": [
        "# Project Title: Exploratory Data Analysis (EDA) with Real-World Datasets"
      ],
      "metadata": {
        "id": "hjmGWudmw015"
      }
    },
    {
      "cell_type": "markdown",
      "source": [
        "**Objective:** The objective of this project is to perform Exploratory Data Analysis (EDA) on a real-world dataset using NumPy, Pandas, Matplotlib, and Seaborn. You will analyze and visualize the data to gain insights and make data-driven decisions."
      ],
      "metadata": {
        "id": "FF6gz6q0w6K1"
      }
    },
    {
      "cell_type": "markdown",
      "source": [
        "**Dataset:** Select a real-world dataset related to a specific domain (e.g., finance, healthcare, social media, sports) that is relevant and interesting to you. Ensure that the dataset is large enough to allow for meaningful analysis. Before initiating your project, obtain approval for the selected dataset from your professor. If your chosen dataset proves too complex for an individual effort, collaboration in teams of up to two students is permissible."
      ],
      "metadata": {
        "id": "Ypgn4TGwxEex"
      }
    },
    {
      "cell_type": "markdown",
      "source": [
        "**Dataset Selection:** Here are some reputable platforms where you can explore and download datasets across various domains:\n",
        "\n",
        "\n",
        "1.   **Kaggle:** https://www.kaggle.com/datasets\n",
        "2.   **UCI Machine Learning Repository:** https://archive.ics.uci.edu/\n",
        "3.   **Data.gov:** https://data.gov/\n",
        "4.   **Google Dataset Search:** https://datasetsearch.research.google.com/\n",
        "5.   **AWS Public Datasets:** https://registry.opendata.aws/\n",
        "6.   **Open Data Portal:** https://data.europa.eu/en\n",
        "7.   **World Bank Data:** https://data.worldbank.org/\n",
        "8.   **Reddit Datasets:** https://www.reddit.com/r/datasets/"
      ],
      "metadata": {
        "id": "gRECgQzI6FFK"
      }
    },
    {
      "cell_type": "markdown",
      "source": [
        "**Tasks:**\n",
        "\n",
        "\n",
        "\n",
        "1.   **Data Loading and Inspection:**\n",
        "\n",
        "  *   Load the dataset into a Pandas DataFrame\n",
        "  *   Display basic information about the dataset (e.g., number of rows, columns, data types).\n",
        "  *   Check for missing values and handle them appropriately.\n",
        "\n",
        "2.   **Data Cleaning:**\n",
        "\n",
        "  *   Clean the dataset by handling any inconsistencies, outliers, or errors in the data.\n",
        "  *   Perform data type conversions if necessary.\n",
        "\n",
        "3.   **Descriptive Statistics:**\n",
        "\n",
        "  *   Compute basic descriptive statistics (mean, median, mode, standard deviation, etc.) for numerical columns.\n",
        "  *   Explore the distribution of data using histograms and box plots.\n",
        "\n",
        "4.   **Data Visualization:**\n",
        "\n",
        "  *   Create visualizations to explore relationships between variables.\n",
        "  *   Utilize Matplotlib and Seaborn to generate meaningful plots such as scatter plots, bar charts, and heatmaps.\n",
        "  *   Include appropriate labels and titles in the visualizations.\n",
        "\n",
        "5.   **Correlation Analysis:**\n",
        "\n",
        "  *   Calculate and visualize the correlation between different variables.\n",
        "  *   Discuss the findings and any insights gained from the correlation analysis.\n",
        "\n",
        "6.   **Time Series Analysis (if applicable):**\n",
        "\n",
        "  *   If the dataset involves time-series data, perform time-series analysis.\n",
        "  *   Plot time-series data and analyze trends, seasonality, or any other patterns.\n",
        "\n",
        "7.   **Conclusion and Insights:**\n",
        "\n",
        "  *   Summarize the key findings and insights obtained from the analysis in the Jupyter Notebook.\n",
        "  *   Discuss any challenges encountered during the analysis and how they were addressed.\n",
        "  *   Provide recommendations or suggestions for further analysis.\n"
      ],
      "metadata": {
        "id": "7Zm_82_QzDUr"
      }
    },
    {
      "cell_type": "markdown",
      "source": [
        "Data Loading/Inspection"
      ],
      "metadata": {
        "id": "5_wb-sNYYsBm"
      }
    },
    {
      "cell_type": "code",
      "source": [
        "# Import necessary libraries\n",
        "import numpy as np\n",
        "import pandas as pd\n",
        "import matplotlib.pyplot as plt\n",
        "import seaborn as sns\n",
        "\n",
        "# Load the dataset into a Pandas DataFrame\n",
        "schoolData = pd.read_csv(\"/content/sample_data/student_math_clean.csv\")"
      ],
      "metadata": {
        "id": "aN4gcA8MofVf"
      },
      "execution_count": null,
      "outputs": []
    },
    {
      "cell_type": "code",
      "source": [
        "# Display basic information about the dataset\n",
        "print(\"Number of rows, columns:\", schoolData.shape)\n",
        "print(\"\\nData types:\")\n",
        "print(schoolData.dtypes)\n",
        "print(\"\\nBasic information:\")\n",
        "print(schoolData.info())"
      ],
      "metadata": {
        "colab": {
          "base_uri": "https://localhost:8080/"
        },
        "id": "DKcnGLIksRV5",
        "outputId": "9ece31ec-7210-480d-8d29-055f0c9414c2"
      },
      "execution_count": null,
      "outputs": [
        {
          "output_type": "stream",
          "name": "stdout",
          "text": [
            "Number of rows, columns: (395, 34)\n",
            "\n",
            "Data types:\n",
            "student_id                int64\n",
            "school                   object\n",
            "sex                      object\n",
            "age                       int64\n",
            "address_type             object\n",
            "family_size              object\n",
            "parent_status            object\n",
            "mother_education         object\n",
            "father_education         object\n",
            "mother_job               object\n",
            "father_job               object\n",
            "school_choice_reason     object\n",
            "guardian                 object\n",
            "travel_time              object\n",
            "study_time               object\n",
            "class_failures            int64\n",
            "school_support           object\n",
            "family_support           object\n",
            "extra_paid_classes       object\n",
            "activities               object\n",
            "nursery_school           object\n",
            "higher_ed                object\n",
            "internet_access          object\n",
            "romantic_relationship    object\n",
            "family_relationship       int64\n",
            "free_time                 int64\n",
            "social                    int64\n",
            "weekday_alcohol           int64\n",
            "weekend_alcohol           int64\n",
            "health                    int64\n",
            "absences                  int64\n",
            "grade_1                   int64\n",
            "grade_2                   int64\n",
            "final_grade               int64\n",
            "dtype: object\n",
            "\n",
            "Basic information:\n",
            "<class 'pandas.core.frame.DataFrame'>\n",
            "RangeIndex: 395 entries, 0 to 394\n",
            "Data columns (total 34 columns):\n",
            " #   Column                 Non-Null Count  Dtype \n",
            "---  ------                 --------------  ----- \n",
            " 0   student_id             395 non-null    int64 \n",
            " 1   school                 395 non-null    object\n",
            " 2   sex                    395 non-null    object\n",
            " 3   age                    395 non-null    int64 \n",
            " 4   address_type           395 non-null    object\n",
            " 5   family_size            395 non-null    object\n",
            " 6   parent_status          395 non-null    object\n",
            " 7   mother_education       395 non-null    object\n",
            " 8   father_education       395 non-null    object\n",
            " 9   mother_job             395 non-null    object\n",
            " 10  father_job             395 non-null    object\n",
            " 11  school_choice_reason   395 non-null    object\n",
            " 12  guardian               395 non-null    object\n",
            " 13  travel_time            395 non-null    object\n",
            " 14  study_time             395 non-null    object\n",
            " 15  class_failures         395 non-null    int64 \n",
            " 16  school_support         395 non-null    object\n",
            " 17  family_support         395 non-null    object\n",
            " 18  extra_paid_classes     395 non-null    object\n",
            " 19  activities             395 non-null    object\n",
            " 20  nursery_school         395 non-null    object\n",
            " 21  higher_ed              395 non-null    object\n",
            " 22  internet_access        395 non-null    object\n",
            " 23  romantic_relationship  395 non-null    object\n",
            " 24  family_relationship    395 non-null    int64 \n",
            " 25  free_time              395 non-null    int64 \n",
            " 26  social                 395 non-null    int64 \n",
            " 27  weekday_alcohol        395 non-null    int64 \n",
            " 28  weekend_alcohol        395 non-null    int64 \n",
            " 29  health                 395 non-null    int64 \n",
            " 30  absences               395 non-null    int64 \n",
            " 31  grade_1                395 non-null    int64 \n",
            " 32  grade_2                395 non-null    int64 \n",
            " 33  final_grade            395 non-null    int64 \n",
            "dtypes: int64(13), object(21)\n",
            "memory usage: 105.0+ KB\n",
            "None\n"
          ]
        }
      ]
    },
    {
      "cell_type": "code",
      "source": [
        "# Check for missing values\n",
        "print(\"\\nMissing values:\")\n",
        "print(schoolData.isnull().sum())\n"
      ],
      "metadata": {
        "colab": {
          "base_uri": "https://localhost:8080/"
        },
        "id": "r6r3oXeishPr",
        "outputId": "2dda468a-28df-43e6-950d-92367a1c6b8c"
      },
      "execution_count": null,
      "outputs": [
        {
          "output_type": "stream",
          "name": "stdout",
          "text": [
            "\n",
            "Missing values:\n",
            "student_id               0\n",
            "school                   0\n",
            "sex                      0\n",
            "age                      0\n",
            "address_type             0\n",
            "family_size              0\n",
            "parent_status            0\n",
            "mother_education         0\n",
            "father_education         0\n",
            "mother_job               0\n",
            "father_job               0\n",
            "school_choice_reason     0\n",
            "guardian                 0\n",
            "travel_time              0\n",
            "study_time               0\n",
            "class_failures           0\n",
            "school_support           0\n",
            "family_support           0\n",
            "extra_paid_classes       0\n",
            "activities               0\n",
            "nursery_school           0\n",
            "higher_ed                0\n",
            "internet_access          0\n",
            "romantic_relationship    0\n",
            "family_relationship      0\n",
            "free_time                0\n",
            "social                   0\n",
            "weekday_alcohol          0\n",
            "weekend_alcohol          0\n",
            "health                   0\n",
            "absences                 0\n",
            "grade_1                  0\n",
            "grade_2                  0\n",
            "final_grade              0\n",
            "dtype: int64\n"
          ]
        }
      ]
    },
    {
      "cell_type": "markdown",
      "source": [
        "Data Manipulation/Cleaning"
      ],
      "metadata": {
        "id": "0__OITVrY0Mi"
      }
    },
    {
      "cell_type": "code",
      "source": [
        "# Function that checks if grades are passing or not\n",
        "def passStatus(x): # X is final grade. Checks if they passed or failed (by Portugese standards)\n",
        "  if x < 10:\n",
        "    return \"Fail\"\n",
        "  if x >= 10:\n",
        "    return \"Pass\""
      ],
      "metadata": {
        "id": "RNokEMwwMPmK"
      },
      "execution_count": null,
      "outputs": []
    },
    {
      "cell_type": "code",
      "source": [
        "# Converts student's weekday and weekend alcohol ratings to a average and applies to a new column\n",
        "schoolData[\"average_alcohol\"] = (schoolData[\"weekday_alcohol\"] + schoolData[\"weekend_alcohol\"])/2\n",
        "# Checks if grades are passing or not and converts it into a new column.\n",
        "schoolData[\"pass_status\"] = schoolData[\"final_grade\"].apply(passStatus)\n",
        "\n",
        "# Drops unnecessary data\n",
        "# Student ID has no correlation here.\n",
        "schoolData.drop(columns=\"student_id\",inplace=True)\n",
        "# Schools have too big a size difference to compare\n",
        "schoolData.drop(columns=\"school\",inplace=True)\n",
        "# Guardians, while useful, is not used in the data exploration.\n",
        "schoolData.drop(columns=\"guardian\",inplace=True)\n",
        "# Reason is not relevant\n",
        "schoolData.drop(columns=\"school_choice_reason\",inplace=True)\n",
        "\n",
        "\n",
        "\n",
        "schoolData.head()"
      ],
      "metadata": {
        "colab": {
          "base_uri": "https://localhost:8080/",
          "height": 342
        },
        "id": "npVUwg4cNr2w",
        "outputId": "787ce233-8c58-4161-fee2-c80a2fb4d397"
      },
      "execution_count": null,
      "outputs": [
        {
          "output_type": "execute_result",
          "data": {
            "text/plain": [
              "  sex  age address_type              family_size    parent_status  \\\n",
              "0   F   18        Urban           Greater than 3            Apart   \n",
              "1   F   17        Urban           Greater than 3  Living together   \n",
              "2   F   15        Urban  Less than or equal to 3  Living together   \n",
              "3   F   15        Urban           Greater than 3  Living together   \n",
              "4   F   16        Urban           Greater than 3  Living together   \n",
              "\n",
              "                mother_education               father_education mother_job  \\\n",
              "0               higher education               higher education    at_home   \n",
              "1  primary education (4th grade)  primary education (4th grade)    at_home   \n",
              "2  primary education (4th grade)  primary education (4th grade)    at_home   \n",
              "3               higher education               5th to 9th grade     health   \n",
              "4            secondary education            secondary education      other   \n",
              "\n",
              "  father_job    travel_time  ... social  weekday_alcohol weekend_alcohol  \\\n",
              "0    teacher  15 to 30 min.  ...      4                1               1   \n",
              "1      other       <15 min.  ...      3                1               1   \n",
              "2      other       <15 min.  ...      2                2               3   \n",
              "3   services       <15 min.  ...      2                1               1   \n",
              "4      other       <15 min.  ...      2                1               2   \n",
              "\n",
              "  health absences grade_1 grade_2 final_grade average_alcohol pass_status  \n",
              "0      3        6       5       6           6             1.0        Fail  \n",
              "1      3        4       5       5           6             1.0        Fail  \n",
              "2      3       10       7       8          10             2.5        Pass  \n",
              "3      5        2      15      14          15             1.0        Pass  \n",
              "4      5        4       6      10          10             1.5        Pass  \n",
              "\n",
              "[5 rows x 32 columns]"
            ],
            "text/html": [
              "\n",
              "  <div id=\"df-990409b6-f516-4c51-86a9-69f6e21883a9\" class=\"colab-df-container\">\n",
              "    <div>\n",
              "<style scoped>\n",
              "    .dataframe tbody tr th:only-of-type {\n",
              "        vertical-align: middle;\n",
              "    }\n",
              "\n",
              "    .dataframe tbody tr th {\n",
              "        vertical-align: top;\n",
              "    }\n",
              "\n",
              "    .dataframe thead th {\n",
              "        text-align: right;\n",
              "    }\n",
              "</style>\n",
              "<table border=\"1\" class=\"dataframe\">\n",
              "  <thead>\n",
              "    <tr style=\"text-align: right;\">\n",
              "      <th></th>\n",
              "      <th>sex</th>\n",
              "      <th>age</th>\n",
              "      <th>address_type</th>\n",
              "      <th>family_size</th>\n",
              "      <th>parent_status</th>\n",
              "      <th>mother_education</th>\n",
              "      <th>father_education</th>\n",
              "      <th>mother_job</th>\n",
              "      <th>father_job</th>\n",
              "      <th>travel_time</th>\n",
              "      <th>...</th>\n",
              "      <th>social</th>\n",
              "      <th>weekday_alcohol</th>\n",
              "      <th>weekend_alcohol</th>\n",
              "      <th>health</th>\n",
              "      <th>absences</th>\n",
              "      <th>grade_1</th>\n",
              "      <th>grade_2</th>\n",
              "      <th>final_grade</th>\n",
              "      <th>average_alcohol</th>\n",
              "      <th>pass_status</th>\n",
              "    </tr>\n",
              "  </thead>\n",
              "  <tbody>\n",
              "    <tr>\n",
              "      <th>0</th>\n",
              "      <td>F</td>\n",
              "      <td>18</td>\n",
              "      <td>Urban</td>\n",
              "      <td>Greater than 3</td>\n",
              "      <td>Apart</td>\n",
              "      <td>higher education</td>\n",
              "      <td>higher education</td>\n",
              "      <td>at_home</td>\n",
              "      <td>teacher</td>\n",
              "      <td>15 to 30 min.</td>\n",
              "      <td>...</td>\n",
              "      <td>4</td>\n",
              "      <td>1</td>\n",
              "      <td>1</td>\n",
              "      <td>3</td>\n",
              "      <td>6</td>\n",
              "      <td>5</td>\n",
              "      <td>6</td>\n",
              "      <td>6</td>\n",
              "      <td>1.0</td>\n",
              "      <td>Fail</td>\n",
              "    </tr>\n",
              "    <tr>\n",
              "      <th>1</th>\n",
              "      <td>F</td>\n",
              "      <td>17</td>\n",
              "      <td>Urban</td>\n",
              "      <td>Greater than 3</td>\n",
              "      <td>Living together</td>\n",
              "      <td>primary education (4th grade)</td>\n",
              "      <td>primary education (4th grade)</td>\n",
              "      <td>at_home</td>\n",
              "      <td>other</td>\n",
              "      <td>&lt;15 min.</td>\n",
              "      <td>...</td>\n",
              "      <td>3</td>\n",
              "      <td>1</td>\n",
              "      <td>1</td>\n",
              "      <td>3</td>\n",
              "      <td>4</td>\n",
              "      <td>5</td>\n",
              "      <td>5</td>\n",
              "      <td>6</td>\n",
              "      <td>1.0</td>\n",
              "      <td>Fail</td>\n",
              "    </tr>\n",
              "    <tr>\n",
              "      <th>2</th>\n",
              "      <td>F</td>\n",
              "      <td>15</td>\n",
              "      <td>Urban</td>\n",
              "      <td>Less than or equal to 3</td>\n",
              "      <td>Living together</td>\n",
              "      <td>primary education (4th grade)</td>\n",
              "      <td>primary education (4th grade)</td>\n",
              "      <td>at_home</td>\n",
              "      <td>other</td>\n",
              "      <td>&lt;15 min.</td>\n",
              "      <td>...</td>\n",
              "      <td>2</td>\n",
              "      <td>2</td>\n",
              "      <td>3</td>\n",
              "      <td>3</td>\n",
              "      <td>10</td>\n",
              "      <td>7</td>\n",
              "      <td>8</td>\n",
              "      <td>10</td>\n",
              "      <td>2.5</td>\n",
              "      <td>Pass</td>\n",
              "    </tr>\n",
              "    <tr>\n",
              "      <th>3</th>\n",
              "      <td>F</td>\n",
              "      <td>15</td>\n",
              "      <td>Urban</td>\n",
              "      <td>Greater than 3</td>\n",
              "      <td>Living together</td>\n",
              "      <td>higher education</td>\n",
              "      <td>5th to 9th grade</td>\n",
              "      <td>health</td>\n",
              "      <td>services</td>\n",
              "      <td>&lt;15 min.</td>\n",
              "      <td>...</td>\n",
              "      <td>2</td>\n",
              "      <td>1</td>\n",
              "      <td>1</td>\n",
              "      <td>5</td>\n",
              "      <td>2</td>\n",
              "      <td>15</td>\n",
              "      <td>14</td>\n",
              "      <td>15</td>\n",
              "      <td>1.0</td>\n",
              "      <td>Pass</td>\n",
              "    </tr>\n",
              "    <tr>\n",
              "      <th>4</th>\n",
              "      <td>F</td>\n",
              "      <td>16</td>\n",
              "      <td>Urban</td>\n",
              "      <td>Greater than 3</td>\n",
              "      <td>Living together</td>\n",
              "      <td>secondary education</td>\n",
              "      <td>secondary education</td>\n",
              "      <td>other</td>\n",
              "      <td>other</td>\n",
              "      <td>&lt;15 min.</td>\n",
              "      <td>...</td>\n",
              "      <td>2</td>\n",
              "      <td>1</td>\n",
              "      <td>2</td>\n",
              "      <td>5</td>\n",
              "      <td>4</td>\n",
              "      <td>6</td>\n",
              "      <td>10</td>\n",
              "      <td>10</td>\n",
              "      <td>1.5</td>\n",
              "      <td>Pass</td>\n",
              "    </tr>\n",
              "  </tbody>\n",
              "</table>\n",
              "<p>5 rows × 32 columns</p>\n",
              "</div>\n",
              "    <div class=\"colab-df-buttons\">\n",
              "\n",
              "  <div class=\"colab-df-container\">\n",
              "    <button class=\"colab-df-convert\" onclick=\"convertToInteractive('df-990409b6-f516-4c51-86a9-69f6e21883a9')\"\n",
              "            title=\"Convert this dataframe to an interactive table.\"\n",
              "            style=\"display:none;\">\n",
              "\n",
              "  <svg xmlns=\"http://www.w3.org/2000/svg\" height=\"24px\" viewBox=\"0 -960 960 960\">\n",
              "    <path d=\"M120-120v-720h720v720H120Zm60-500h600v-160H180v160Zm220 220h160v-160H400v160Zm0 220h160v-160H400v160ZM180-400h160v-160H180v160Zm440 0h160v-160H620v160ZM180-180h160v-160H180v160Zm440 0h160v-160H620v160Z\"/>\n",
              "  </svg>\n",
              "    </button>\n",
              "\n",
              "  <style>\n",
              "    .colab-df-container {\n",
              "      display:flex;\n",
              "      gap: 12px;\n",
              "    }\n",
              "\n",
              "    .colab-df-convert {\n",
              "      background-color: #E8F0FE;\n",
              "      border: none;\n",
              "      border-radius: 50%;\n",
              "      cursor: pointer;\n",
              "      display: none;\n",
              "      fill: #1967D2;\n",
              "      height: 32px;\n",
              "      padding: 0 0 0 0;\n",
              "      width: 32px;\n",
              "    }\n",
              "\n",
              "    .colab-df-convert:hover {\n",
              "      background-color: #E2EBFA;\n",
              "      box-shadow: 0px 1px 2px rgba(60, 64, 67, 0.3), 0px 1px 3px 1px rgba(60, 64, 67, 0.15);\n",
              "      fill: #174EA6;\n",
              "    }\n",
              "\n",
              "    .colab-df-buttons div {\n",
              "      margin-bottom: 4px;\n",
              "    }\n",
              "\n",
              "    [theme=dark] .colab-df-convert {\n",
              "      background-color: #3B4455;\n",
              "      fill: #D2E3FC;\n",
              "    }\n",
              "\n",
              "    [theme=dark] .colab-df-convert:hover {\n",
              "      background-color: #434B5C;\n",
              "      box-shadow: 0px 1px 3px 1px rgba(0, 0, 0, 0.15);\n",
              "      filter: drop-shadow(0px 1px 2px rgba(0, 0, 0, 0.3));\n",
              "      fill: #FFFFFF;\n",
              "    }\n",
              "  </style>\n",
              "\n",
              "    <script>\n",
              "      const buttonEl =\n",
              "        document.querySelector('#df-990409b6-f516-4c51-86a9-69f6e21883a9 button.colab-df-convert');\n",
              "      buttonEl.style.display =\n",
              "        google.colab.kernel.accessAllowed ? 'block' : 'none';\n",
              "\n",
              "      async function convertToInteractive(key) {\n",
              "        const element = document.querySelector('#df-990409b6-f516-4c51-86a9-69f6e21883a9');\n",
              "        const dataTable =\n",
              "          await google.colab.kernel.invokeFunction('convertToInteractive',\n",
              "                                                    [key], {});\n",
              "        if (!dataTable) return;\n",
              "\n",
              "        const docLinkHtml = 'Like what you see? Visit the ' +\n",
              "          '<a target=\"_blank\" href=https://colab.research.google.com/notebooks/data_table.ipynb>data table notebook</a>'\n",
              "          + ' to learn more about interactive tables.';\n",
              "        element.innerHTML = '';\n",
              "        dataTable['output_type'] = 'display_data';\n",
              "        await google.colab.output.renderOutput(dataTable, element);\n",
              "        const docLink = document.createElement('div');\n",
              "        docLink.innerHTML = docLinkHtml;\n",
              "        element.appendChild(docLink);\n",
              "      }\n",
              "    </script>\n",
              "  </div>\n",
              "\n",
              "\n",
              "<div id=\"df-8949d900-53fb-4500-afe0-9005e6b461a0\">\n",
              "  <button class=\"colab-df-quickchart\" onclick=\"quickchart('df-8949d900-53fb-4500-afe0-9005e6b461a0')\"\n",
              "            title=\"Suggest charts\"\n",
              "            style=\"display:none;\">\n",
              "\n",
              "<svg xmlns=\"http://www.w3.org/2000/svg\" height=\"24px\"viewBox=\"0 0 24 24\"\n",
              "     width=\"24px\">\n",
              "    <g>\n",
              "        <path d=\"M19 3H5c-1.1 0-2 .9-2 2v14c0 1.1.9 2 2 2h14c1.1 0 2-.9 2-2V5c0-1.1-.9-2-2-2zM9 17H7v-7h2v7zm4 0h-2V7h2v10zm4 0h-2v-4h2v4z\"/>\n",
              "    </g>\n",
              "</svg>\n",
              "  </button>\n",
              "\n",
              "<style>\n",
              "  .colab-df-quickchart {\n",
              "      --bg-color: #E8F0FE;\n",
              "      --fill-color: #1967D2;\n",
              "      --hover-bg-color: #E2EBFA;\n",
              "      --hover-fill-color: #174EA6;\n",
              "      --disabled-fill-color: #AAA;\n",
              "      --disabled-bg-color: #DDD;\n",
              "  }\n",
              "\n",
              "  [theme=dark] .colab-df-quickchart {\n",
              "      --bg-color: #3B4455;\n",
              "      --fill-color: #D2E3FC;\n",
              "      --hover-bg-color: #434B5C;\n",
              "      --hover-fill-color: #FFFFFF;\n",
              "      --disabled-bg-color: #3B4455;\n",
              "      --disabled-fill-color: #666;\n",
              "  }\n",
              "\n",
              "  .colab-df-quickchart {\n",
              "    background-color: var(--bg-color);\n",
              "    border: none;\n",
              "    border-radius: 50%;\n",
              "    cursor: pointer;\n",
              "    display: none;\n",
              "    fill: var(--fill-color);\n",
              "    height: 32px;\n",
              "    padding: 0;\n",
              "    width: 32px;\n",
              "  }\n",
              "\n",
              "  .colab-df-quickchart:hover {\n",
              "    background-color: var(--hover-bg-color);\n",
              "    box-shadow: 0 1px 2px rgba(60, 64, 67, 0.3), 0 1px 3px 1px rgba(60, 64, 67, 0.15);\n",
              "    fill: var(--button-hover-fill-color);\n",
              "  }\n",
              "\n",
              "  .colab-df-quickchart-complete:disabled,\n",
              "  .colab-df-quickchart-complete:disabled:hover {\n",
              "    background-color: var(--disabled-bg-color);\n",
              "    fill: var(--disabled-fill-color);\n",
              "    box-shadow: none;\n",
              "  }\n",
              "\n",
              "  .colab-df-spinner {\n",
              "    border: 2px solid var(--fill-color);\n",
              "    border-color: transparent;\n",
              "    border-bottom-color: var(--fill-color);\n",
              "    animation:\n",
              "      spin 1s steps(1) infinite;\n",
              "  }\n",
              "\n",
              "  @keyframes spin {\n",
              "    0% {\n",
              "      border-color: transparent;\n",
              "      border-bottom-color: var(--fill-color);\n",
              "      border-left-color: var(--fill-color);\n",
              "    }\n",
              "    20% {\n",
              "      border-color: transparent;\n",
              "      border-left-color: var(--fill-color);\n",
              "      border-top-color: var(--fill-color);\n",
              "    }\n",
              "    30% {\n",
              "      border-color: transparent;\n",
              "      border-left-color: var(--fill-color);\n",
              "      border-top-color: var(--fill-color);\n",
              "      border-right-color: var(--fill-color);\n",
              "    }\n",
              "    40% {\n",
              "      border-color: transparent;\n",
              "      border-right-color: var(--fill-color);\n",
              "      border-top-color: var(--fill-color);\n",
              "    }\n",
              "    60% {\n",
              "      border-color: transparent;\n",
              "      border-right-color: var(--fill-color);\n",
              "    }\n",
              "    80% {\n",
              "      border-color: transparent;\n",
              "      border-right-color: var(--fill-color);\n",
              "      border-bottom-color: var(--fill-color);\n",
              "    }\n",
              "    90% {\n",
              "      border-color: transparent;\n",
              "      border-bottom-color: var(--fill-color);\n",
              "    }\n",
              "  }\n",
              "</style>\n",
              "\n",
              "  <script>\n",
              "    async function quickchart(key) {\n",
              "      const quickchartButtonEl =\n",
              "        document.querySelector('#' + key + ' button');\n",
              "      quickchartButtonEl.disabled = true;  // To prevent multiple clicks.\n",
              "      quickchartButtonEl.classList.add('colab-df-spinner');\n",
              "      try {\n",
              "        const charts = await google.colab.kernel.invokeFunction(\n",
              "            'suggestCharts', [key], {});\n",
              "      } catch (error) {\n",
              "        console.error('Error during call to suggestCharts:', error);\n",
              "      }\n",
              "      quickchartButtonEl.classList.remove('colab-df-spinner');\n",
              "      quickchartButtonEl.classList.add('colab-df-quickchart-complete');\n",
              "    }\n",
              "    (() => {\n",
              "      let quickchartButtonEl =\n",
              "        document.querySelector('#df-8949d900-53fb-4500-afe0-9005e6b461a0 button');\n",
              "      quickchartButtonEl.style.display =\n",
              "        google.colab.kernel.accessAllowed ? 'block' : 'none';\n",
              "    })();\n",
              "  </script>\n",
              "</div>\n",
              "    </div>\n",
              "  </div>\n"
            ]
          },
          "metadata": {},
          "execution_count": 68
        }
      ]
    },
    {
      "cell_type": "markdown",
      "source": [
        "Descriptive Statistics"
      ],
      "metadata": {
        "id": "W54erv-HY_M6"
      }
    },
    {
      "cell_type": "code",
      "source": [
        "# Handle missing values (if any)\n",
        "# For example, you can drop rows with missing values: df.dropna(inplace=True)\n",
        "\n",
        "# Data Cleaning\n",
        "# Handle any inconsistencies, outliers, or errors\n",
        "# Perform data type conversions if necessary\n",
        "\n",
        "# Descriptive Statistics\n",
        "# Compute basic descriptive statistics for numerical columns\n",
        "print(\"\\nDescriptive statistics:\")\n",
        "print(schoolData.describe())"
      ],
      "metadata": {
        "colab": {
          "base_uri": "https://localhost:8080/"
        },
        "id": "e0dZgaVhsmdD",
        "outputId": "8a100beb-4c67-4c5f-cb69-0aebf71c2181"
      },
      "execution_count": null,
      "outputs": [
        {
          "output_type": "stream",
          "name": "stdout",
          "text": [
            "\n",
            "Descriptive statistics:\n",
            "              age  class_failures  family_relationship   free_time  \\\n",
            "count  395.000000      395.000000           395.000000  395.000000   \n",
            "mean    16.696203        0.334177             3.944304    3.235443   \n",
            "std      1.276043        0.743651             0.896659    0.998862   \n",
            "min     15.000000        0.000000             1.000000    1.000000   \n",
            "25%     16.000000        0.000000             4.000000    3.000000   \n",
            "50%     17.000000        0.000000             4.000000    3.000000   \n",
            "75%     18.000000        0.000000             5.000000    4.000000   \n",
            "max     22.000000        3.000000             5.000000    5.000000   \n",
            "\n",
            "           social  weekday_alcohol  weekend_alcohol      health    absences  \\\n",
            "count  395.000000       395.000000       395.000000  395.000000  395.000000   \n",
            "mean     3.108861         1.481013         2.291139    3.554430    5.708861   \n",
            "std      1.113278         0.890741         1.287897    1.390303    8.003096   \n",
            "min      1.000000         1.000000         1.000000    1.000000    0.000000   \n",
            "25%      2.000000         1.000000         1.000000    3.000000    0.000000   \n",
            "50%      3.000000         1.000000         2.000000    4.000000    4.000000   \n",
            "75%      4.000000         2.000000         3.000000    5.000000    8.000000   \n",
            "max      5.000000         5.000000         5.000000    5.000000   75.000000   \n",
            "\n",
            "          grade_1     grade_2  final_grade  average_alcohol  \n",
            "count  395.000000  395.000000   395.000000       395.000000  \n",
            "mean    10.908861   10.713924    10.415190         1.886076  \n",
            "std      3.319195    3.761505     4.581443         0.992195  \n",
            "min      3.000000    0.000000     0.000000         1.000000  \n",
            "25%      8.000000    9.000000     8.000000         1.000000  \n",
            "50%     11.000000   11.000000    11.000000         1.500000  \n",
            "75%     13.000000   13.000000    14.000000         2.500000  \n",
            "max     19.000000   19.000000    20.000000         5.000000  \n"
          ]
        }
      ]
    },
    {
      "cell_type": "markdown",
      "source": [
        "Data Visualization"
      ],
      "metadata": {
        "id": "GuIjlR105469"
      }
    },
    {
      "cell_type": "code",
      "source": [
        "sns.countplot(x = \"pass_status\", data = schoolData, hue = \"sex\") # shows how many students passed and failed and between male and female\n",
        "plt.title('Pass Rates Between Males and Females')\n",
        "plt.xlabel('Pass Status')\n",
        "plt.ylabel('Number of Passes')"
      ],
      "metadata": {
        "colab": {
          "base_uri": "https://localhost:8080/",
          "height": 489
        },
        "id": "8WWNYjPqqtok",
        "outputId": "4741b322-b40f-4df8-b640-9c6ab5fda374"
      },
      "execution_count": null,
      "outputs": [
        {
          "output_type": "execute_result",
          "data": {
            "text/plain": [
              "Text(0, 0.5, 'Number of Passes')"
            ]
          },
          "metadata": {},
          "execution_count": 70
        },
        {
          "output_type": "display_data",
          "data": {
            "text/plain": [
              "<Figure size 640x480 with 1 Axes>"
            ],
            "image/png": "[encoded data removed]"
          },
          "metadata": {}
        }
      ]
    },
    {
      "cell_type": "code",
      "source": [
        "sns.countplot(x = \"pass_status\", data = schoolData, hue = \"parent_status\") # Creates a count plot with parent status as the hue.\n",
        "plt.title('Parent Status')\n",
        "plt.xlabel('Pass Status')\n",
        "plt.ylabel('Number of Passes')"
      ],
      "metadata": {
        "colab": {
          "base_uri": "https://localhost:8080/",
          "height": 489
        },
        "id": "NdU1-7pKuiyw",
        "outputId": "26f03bc1-e6f7-4a28-e68e-9c041079c293"
      },
      "execution_count": null,
      "outputs": [
        {
          "output_type": "execute_result",
          "data": {
            "text/plain": [
              "Text(0, 0.5, 'Number of Passes')"
            ]
          },
          "metadata": {},
          "execution_count": 71
        },
        {
          "output_type": "display_data",
          "data": {
            "text/plain": [
              "<Figure size 640x480 with 1 Axes>"
            ],
            "image/png": "[encoded data removed]"
          },
          "metadata": {}
        }
      ]
    },
    {
      "cell_type": "code",
      "source": [
        "sns.countplot(x = \"pass_status\", data = schoolData, hue = \"family_size\") # Creates a count plot with family size as the hue.\n",
        "plt.title('Family Size Effects on Pass Rates')\n",
        "plt.xlabel('Pass Status')\n",
        "plt.ylabel('Number of Passes')"
      ],
      "metadata": {
        "colab": {
          "base_uri": "https://localhost:8080/"
        },
        "id": "jwB68Nuhukq2",
        "outputId": "a8818662-f3bc-4d03-b202-96d39973e52b"
      },
      "execution_count": null,
      "outputs": [
        {
          "output_type": "execute_result",
          "data": {
            "text/plain": [
              "Text(0, 0.5, 'Number of Passes')"
            ]
          },
          "metadata": {},
          "execution_count": 72
        },
        {
          "output_type": "display_data",
          "data": {
            "text/plain": [
              "<Figure size 640x480 with 1 Axes>"
            ],
            "image/png": "[encoded data removed]"
          },
          "metadata": {}
        }
      ]
    },
    {
      "cell_type": "code",
      "source": [
        "sns.countplot(x = \"pass_status\", data = schoolData, hue = \"address_type\") # Creates a count plot with house location as the hue.\n",
        "plt.title('Home Locations Effect of Passing')\n",
        "plt.xlabel('Pass Status')\n",
        "plt.ylabel('Number of Passes')"
      ],
      "metadata": {
        "colab": {
          "base_uri": "https://localhost:8080/"
        },
        "id": "Fl171-fitdMo",
        "outputId": "0ef61a25-4b60-4ef2-c4f2-c25dc6d40425"
      },
      "execution_count": null,
      "outputs": [
        {
          "output_type": "execute_result",
          "data": {
            "text/plain": [
              "Text(0, 0.5, 'Number of Passes')"
            ]
          },
          "metadata": {},
          "execution_count": 73
        },
        {
          "output_type": "display_data",
          "data": {
            "text/plain": [
              "<Figure size 640x480 with 1 Axes>"
            ],
            "image/png": "[encoded data removed]"
          },
          "metadata": {}
        }
      ]
    },
    {
      "cell_type": "code",
      "source": [
        "sns.scatterplot(data = schoolData, x = \"final_grade\", y = \"absences\", hue = 'sex')\n",
        "plt.title('Absences Effects on Grades')\n",
        "plt.xlabel('Final Grades')\n",
        "plt.ylabel('Absences')"
      ],
      "metadata": {
        "id": "ZKDjYg1du3QX"
      },
      "execution_count": null,
      "outputs": []
    },
    {
      "cell_type": "code",
      "source": [
        "sns.countplot(x = \"pass_status\", data = schoolData, hue = 'mother_education') # Creates a count plot with mother education as the hue.\n",
        "plt.title('Effects of Mothers Eductions')\n",
        "plt.xlabel('Pass Status')\n",
        "plt.ylabel('Number of Passes')\n"
      ],
      "metadata": {
        "id": "RmIpwJTGvlzQ"
      },
      "execution_count": null,
      "outputs": []
    },
    {
      "cell_type": "code",
      "source": [
        "sns.countplot(x = \"pass_status\", data = schoolData, hue = 'father_education') # Creates a count plot with father education as the hue.\n",
        "plt.title('Effects of Fathers Eductions')\n",
        "plt.xlabel('Pass Status')\n",
        "plt.ylabel('Number of Passes')"
      ],
      "metadata": {
        "id": "io4gw6R-yQHE"
      },
      "execution_count": null,
      "outputs": []
    },
    {
      "cell_type": "code",
      "source": [
        "sns.countplot(data = schoolData, x = 'pass_status', hue = 'internet_access' ) # Creates a count plot with internet as the hue.\n",
        "plt.title('Internets Effect on Pass Rates')\n",
        "plt.xlabel('Pass Status')\n",
        "plt.ylabel('Number of Passes')"
      ],
      "metadata": {
        "id": "k8pioaSdaXOY"
      },
      "execution_count": null,
      "outputs": []
    },
    {
      "cell_type": "code",
      "source": [
        "sns.catplot(data = schoolData,kind = 'bar', x = \"social\", y = \"average_alcohol\", hue = 'pass_status')\n",
        "plt.title('Social Behaviors Effect on Drinking Alcohol and Grades')\n",
        "plt.ylabel('Average Alcohol')\n",
        "plt.xlabel('Social')"
      ],
      "metadata": {
        "id": "i8EQB8o-6WQd"
      },
      "execution_count": null,
      "outputs": []
    },
    {
      "cell_type": "code",
      "source": [
        "sns.countplot(data = schoolData, x = 'pass_status', hue = 'study_time' )\n",
        "plt.title('Studyings Effect on Passing')\n",
        "plt.xlabel('Pass Status')\n",
        "plt.ylabel('Number of Passes')"
      ],
      "metadata": {
        "id": "HfwgrJSr9NIe"
      },
      "execution_count": null,
      "outputs": []
    }
  ]
}